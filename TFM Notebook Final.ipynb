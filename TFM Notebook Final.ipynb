{
 "cells": [
  {
   "cell_type": "markdown",
   "metadata": {},
   "source": [
    "#Loading of principal libraries that will be used for analysis"
   ]
  },
  {
   "cell_type": "code",
   "execution_count": 44,
   "metadata": {},
   "outputs": [],
   "source": [
    "#Load libraries\n",
    "import pandas as pd\n",
    "from nltk.stem import WordNetLemmatizer\n",
    "from nltk.tokenize import word_tokenize\n",
    "import spacy\n",
    "import textblob"
   ]
  },
  {
   "cell_type": "markdown",
   "metadata": {},
   "source": [
    "#Initial input from users and scrapper to obtain tweets"
   ]
  },
  {
   "cell_type": "code",
   "execution_count": 45,
   "metadata": {},
   "outputs": [],
   "source": [
    "#Input Twitter account to review\n",
    "query_account = input(\"Input the twitter account you wish to review replied comments for sentiment analysis\")\n",
    "query_limit = int(input(\"How many comments would you like to review? (Note: the larger the limit, the longer it will take to analyze)\"))"
   ]
  },
  {
   "cell_type": "code",
   "execution_count": 46,
   "metadata": {},
   "outputs": [],
   "source": [
    "#Get base information\n",
    "#Social Media Imports\n",
    "import snscrape.modules.twitter as sntwitter\n",
    "\n",
    "#Query and exection\n",
    "query = f\"(to:{query_account}) (@{query_account}) filter:replies\"\n",
    "tweets = []\n",
    "limits = query_limit\n",
    "\n",
    "for tweet in sntwitter.TwitterSearchScraper(query).get_items():\n",
    "    if len(tweets) == limits:\n",
    "        break\n",
    "    else: tweets.append(tweet)    "
   ]
  },
  {
   "cell_type": "code",
   "execution_count": 47,
   "metadata": {},
   "outputs": [],
   "source": [
    "#load imported tweets to pandas\n",
    "df_corpus = pd.DataFrame(tweets)\n",
    "\n",
    "df_corpus = df_corpus.drop(columns=['url', 'renderedContent', 'replyCount',\n",
    "       'retweetCount', 'likeCount', 'quoteCount', 'conversationId', \n",
    "       'source', 'sourceUrl', 'outlinks', 'tcooutlinks',\n",
    "       'media', 'retweetedTweet', 'quotedTweet', 'inReplyToTweetId',\n",
    "       'inReplyToUser', 'mentionedUsers', 'coordinates', 'place', 'cashtags'], axis=1)\n",
    "\n",
    "#Add Tweet length\n",
    "df_corpus['Tweet_LEN']= df_corpus['content'].apply(lambda x: len(x))\n",
    "\n",
    "#drop all non-english rows and tweets with less than 5 length\n",
    "df_corpus = df_corpus[df_corpus['lang'] =='en']\n",
    "df_corpus = df_corpus[df_corpus['Tweet_LEN'] >= 10]\n"
   ]
  },
  {
   "cell_type": "code",
   "execution_count": 48,
   "metadata": {},
   "outputs": [
    {
     "data": {
      "text/html": [
       "<div>\n",
       "<style scoped>\n",
       "    .dataframe tbody tr th:only-of-type {\n",
       "        vertical-align: middle;\n",
       "    }\n",
       "\n",
       "    .dataframe tbody tr th {\n",
       "        vertical-align: top;\n",
       "    }\n",
       "\n",
       "    .dataframe thead th {\n",
       "        text-align: right;\n",
       "    }\n",
       "</style>\n",
       "<table border=\"1\" class=\"dataframe\">\n",
       "  <thead>\n",
       "    <tr style=\"text-align: right;\">\n",
       "      <th></th>\n",
       "      <th>id</th>\n",
       "      <th>Tweet_LEN</th>\n",
       "    </tr>\n",
       "  </thead>\n",
       "  <tbody>\n",
       "    <tr>\n",
       "      <th>count</th>\n",
       "      <td>1.706000e+03</td>\n",
       "      <td>1706.000000</td>\n",
       "    </tr>\n",
       "    <tr>\n",
       "      <th>mean</th>\n",
       "      <td>1.590819e+18</td>\n",
       "      <td>103.715123</td>\n",
       "    </tr>\n",
       "    <tr>\n",
       "      <th>std</th>\n",
       "      <td>6.517078e+13</td>\n",
       "      <td>75.605534</td>\n",
       "    </tr>\n",
       "    <tr>\n",
       "      <th>min</th>\n",
       "      <td>1.590725e+18</td>\n",
       "      <td>10.000000</td>\n",
       "    </tr>\n",
       "    <tr>\n",
       "      <th>25%</th>\n",
       "      <td>1.590763e+18</td>\n",
       "      <td>47.000000</td>\n",
       "    </tr>\n",
       "    <tr>\n",
       "      <th>50%</th>\n",
       "      <td>1.590808e+18</td>\n",
       "      <td>79.000000</td>\n",
       "    </tr>\n",
       "    <tr>\n",
       "      <th>75%</th>\n",
       "      <td>1.590862e+18</td>\n",
       "      <td>141.000000</td>\n",
       "    </tr>\n",
       "    <tr>\n",
       "      <th>max</th>\n",
       "      <td>1.590993e+18</td>\n",
       "      <td>319.000000</td>\n",
       "    </tr>\n",
       "  </tbody>\n",
       "</table>\n",
       "</div>"
      ],
      "text/plain": [
       "                 id    Tweet_LEN\n",
       "count  1.706000e+03  1706.000000\n",
       "mean   1.590819e+18   103.715123\n",
       "std    6.517078e+13    75.605534\n",
       "min    1.590725e+18    10.000000\n",
       "25%    1.590763e+18    47.000000\n",
       "50%    1.590808e+18    79.000000\n",
       "75%    1.590862e+18   141.000000\n",
       "max    1.590993e+18   319.000000"
      ]
     },
     "execution_count": 48,
     "metadata": {},
     "output_type": "execute_result"
    }
   ],
   "source": [
    "df_corpus.describe()"
   ]
  },
  {
   "cell_type": "code",
   "execution_count": 49,
   "metadata": {},
   "outputs": [
    {
     "data": {
      "text/plain": [
       "<AxesSubplot: >"
      ]
     },
     "execution_count": 49,
     "metadata": {},
     "output_type": "execute_result"
    },
    {
     "data": {
      "image/png": "[encoded data removed]",
      "text/plain": [
       "<Figure size 432x288 with 1 Axes>"
      ]
     },
     "metadata": {
      "needs_background": "light"
     },
     "output_type": "display_data"
    }
   ],
   "source": [
    "df_corpus.Tweet_LEN.hist()"
   ]
  },
  {
   "cell_type": "code",
   "execution_count": 50,
   "metadata": {},
   "outputs": [],
   "source": [
    "#create dictionary of locations from user:\n",
    "df_loc = df_corpus['user'].to_dict()\n",
    "\n",
    "#create empty list\n",
    "df_locations =[]\n",
    "\n",
    "#Add user locations to df_locations\n",
    "for i in df_loc:\n",
    "    df_locations.append(df_loc[i][\"location\"])\n",
    "\n",
    "#Add locations to df_corpus\n",
    "df_corpus['location'] = df_locations"
   ]
  },
  {
   "cell_type": "markdown",
   "metadata": {},
   "source": [
    "# VADER sentiment analysis testing\n",
    "\n",
    "pre-processing pipeline added in order to leave in punctuation so VADER can use it witin the sentiment analysis"
   ]
  },
  {
   "cell_type": "code",
   "execution_count": 51,
   "metadata": {},
   "outputs": [],
   "source": [
    "# VADER Sentiment analysis - Better analysis for social media as it has more related to puncuation and emojis\n",
    "from nltk.sentiment.vader import SentimentIntensityAnalyzer\n",
    "\n",
    "# load spacy english large dictionary\n",
    "nlp = spacy.load('en_core_web_sm')\n",
    "\n",
    "#Remove Mentions '@' and \"#\" and URLs from tweets\n",
    "import re\n",
    "\n",
    "#Function to remove mentions\n",
    "def remove_regExp(text):\n",
    "    text = re.sub('@[\\w]+','',text) #remove users\n",
    "    text = re.sub(r\"\\S*https?:\\S*\",'', text) #remove URLs\n",
    "    text = re.sub('#[\\w]+','',text) #remove hastags\n",
    "    text = re.sub('&','',text) #remove '&'\n",
    "    return text\n",
    "\n",
    "#Call function to clean data\n",
    "df_corpus['content_clean'] = df_corpus['content'].apply(lambda x: remove_regExp(str(x)))\n",
    "\n",
    "\n",
    "\n",
    "#Function to remove punc, stopwords, spaces, currency\n",
    "def clean_pipeline_vader(text):\n",
    "    text = nlp(text)\n",
    "    output = []\n",
    "    for token in text:\n",
    "        if not token.is_stop and not token.is_space and not token.is_currency :         \n",
    "             output.append(token.lemma_)\n",
    "    else: return ' '.join(output)\n",
    "\n",
    "\n",
    "#Call pipeline function to clean data\n",
    "df_corpus['content_cleanr'] = df_corpus['content_clean'].apply(lambda x: clean_pipeline_vader(x))\n",
    "\n",
    "#sentiment classification: positive, neutral, negative\n",
    "def sent_class(num):\n",
    "    if num> 0:\n",
    "        return \"Positive\"\n",
    "    elif num < 0:\n",
    "        return \"Negative\"\n",
    "    else: return \"Neutral\"\n",
    "\n",
    "#Subjectivity classification: Objective, subjective \n",
    "def sub_class(num):\n",
    "    if num > 0:\n",
    "        return \"Subjective\"\n",
    "    else: return \"Objective\"\n",
    "\n",
    "#initiate instance\n",
    "vader = SentimentIntensityAnalyzer()\n",
    "\n",
    "#VADER sentiment analysis\n",
    "df_corpus['VADER_Score'] = df_corpus.content_clean.apply(lambda x: vader.polarity_scores(x))\n",
    "\n",
    "#Vader sentiment score:\n",
    "df_corpus['VADER_Score'] = df_corpus['VADER_Score'].apply(lambda d: d['compound'])\n",
    "\n",
    "#Vader sentiment classification:\n",
    "df_corpus['Vader_Score_Class'] = df_corpus.VADER_Score.apply(sent_class)\n"
   ]
  },
  {
   "cell_type": "markdown",
   "metadata": {},
   "source": [
    "# TextBlob sentiment analysis\n",
    "\n",
    "Pipeline to remove punctuation was added to better optimize TextBlob"
   ]
  },
  {
   "cell_type": "code",
   "execution_count": 52,
   "metadata": {},
   "outputs": [],
   "source": [
    "#Textblob sentiment analysis\n",
    "from textblob import TextBlob\n",
    "\n",
    "#Remove Mentions '@' and \"#\" and URLs from tweets\n",
    "import re\n",
    "\n",
    "def clean_pipeline_TextBlob(text):\n",
    "    text = nlp(text)\n",
    "    output = []\n",
    "    for token in text:\n",
    "        if not token.is_punct:         \n",
    "             output.append(str(token))\n",
    "    else: return ' '.join(output)\n",
    "\n",
    "#Call function to clean data\n",
    "df_corpus['content_clean'] = df_corpus['content_clean'].apply(lambda x: clean_pipeline_TextBlob(x))\n",
    "\n",
    "\n",
    "#make df text\n",
    "\n",
    "def stirng_setting(text):\n",
    "    transform = str(text)\n",
    "    return transform\n",
    "\n",
    "#sentiment calculation\n",
    "def senti_calculation(text):\n",
    "    try:\n",
    "        return TextBlob(text).sentiment.polarity\n",
    "    except:\n",
    "        return None\n",
    "\n",
    "\n",
    "#Subjective or Objective\n",
    "def subj_calculation(text):\n",
    "    try:\n",
    "        return TextBlob(text).subjectivity\n",
    "    except:\n",
    "        return None\n",
    "\n",
    "#Convert content_clean to string format\n",
    "df_corpus['content_clean'] = df_corpus['content_clean'].apply(stirng_setting)\n",
    "\n",
    "#Add sentimet score to DF\n",
    "df_corpus['TextBlob_Sentiment_Score'] = df_corpus['content_clean'].apply(senti_calculation)\n",
    "\n",
    "#Add sentiment classiification to text\n",
    "df_corpus['TextBlob_Score_Class'] = df_corpus.TextBlob_Sentiment_Score.apply(sent_class)\n",
    "\n",
    "#add subjectivity score to dataframe\n",
    "df_corpus[\"TextBlob_Subj_Score\"] = df_corpus['content_clean'].apply(subj_calculation)\n",
    "\n",
    "#Add sentiment classiification to text\n",
    "df_corpus['TextBlob_Subj_Class'] = df_corpus.TextBlob_Subj_Score.apply(sub_class)"
   ]
  },
  {
   "cell_type": "markdown",
   "metadata": {},
   "source": [
    "# Data Visualization and EDA of the data"
   ]
  },
  {
   "cell_type": "code",
   "execution_count": 53,
   "metadata": {},
   "outputs": [
    {
     "data": {
      "text/plain": [
       "<AxesSubplot: >"
      ]
     },
     "execution_count": 53,
     "metadata": {},
     "output_type": "execute_result"
    },
    {
     "data": {
      "image/png": "[encoded data removed]",
      "text/plain": [
       "<Figure size 432x288 with 1 Axes>"
      ]
     },
     "metadata": {
      "needs_background": "light"
     },
     "output_type": "display_data"
    }
   ],
   "source": [
    "df_corpus['TextBlob_Score_Class'].hist()"
   ]
  },
  {
   "cell_type": "code",
   "execution_count": 54,
   "metadata": {},
   "outputs": [
    {
     "data": {
      "text/plain": [
       "<AxesSubplot: >"
      ]
     },
     "execution_count": 54,
     "metadata": {},
     "output_type": "execute_result"
    },
    {
     "data": {
      "image/png": "[encoded data removed]",
      "text/plain": [
       "<Figure size 432x288 with 1 Axes>"
      ]
     },
     "metadata": {
      "needs_background": "light"
     },
     "output_type": "display_data"
    }
   ],
   "source": [
    "df_corpus['Vader_Score_Class'].hist()"
   ]
  },
  {
   "cell_type": "markdown",
   "metadata": {},
   "source": [
    "# Topic Modeling with BERTopic\n",
    "including: Vectorized results, Clustered Model and reduced dimensionality"
   ]
  },
  {
   "cell_type": "code",
   "execution_count": 55,
   "metadata": {},
   "outputs": [
    {
     "ename": "NameError",
     "evalue": "name 'docs' is not defined",
     "output_type": "error",
     "traceback": [
      "\u001b[1;31m---------------------------------------------------------------------------\u001b[0m",
      "\u001b[1;31mNameError\u001b[0m                                 Traceback (most recent call last)",
      "\u001b[1;32mc:\\Users\\Ryanw\\Desktop\\TFM\\TFM Notebook Final.ipynb Cell 18\u001b[0m in \u001b[0;36m<cell line: 7>\u001b[1;34m()\u001b[0m\n\u001b[0;32m      <a href='vscode-notebook-cell:/c%3A/Users/Ryanw/Desktop/TFM/TFM%20Notebook%20Final.ipynb#X30sZmlsZQ%3D%3D?line=4'>5</a>\u001b[0m ct_model \u001b[39m=\u001b[39m ClassTfidfTransformer(reduce_frequent_words\u001b[39m=\u001b[39m\u001b[39mTrue\u001b[39;00m,bm25_weighting\u001b[39m=\u001b[39m\u001b[39mTrue\u001b[39;00m)\n\u001b[0;32m      <a href='vscode-notebook-cell:/c%3A/Users/Ryanw/Desktop/TFM/TFM%20Notebook%20Final.ipynb#X30sZmlsZQ%3D%3D?line=5'>6</a>\u001b[0m topic_model \u001b[39m=\u001b[39m BERTopic(ctfidf_model\u001b[39m=\u001b[39mct_model)\n\u001b[1;32m----> <a href='vscode-notebook-cell:/c%3A/Users/Ryanw/Desktop/TFM/TFM%20Notebook%20Final.ipynb#X30sZmlsZQ%3D%3D?line=6'>7</a>\u001b[0m topics, probs \u001b[39m=\u001b[39m topic_model\u001b[39m.\u001b[39mfit_transform(docs)\n\u001b[0;32m      <a href='vscode-notebook-cell:/c%3A/Users/Ryanw/Desktop/TFM/TFM%20Notebook%20Final.ipynb#X30sZmlsZQ%3D%3D?line=7'>8</a>\u001b[0m topic_model\u001b[39m.\u001b[39mreduce_topics(docs, nr_topics\u001b[39m=\u001b[39m\u001b[39m10\u001b[39m)\n\u001b[0;32m     <a href='vscode-notebook-cell:/c%3A/Users/Ryanw/Desktop/TFM/TFM%20Notebook%20Final.ipynb#X30sZmlsZQ%3D%3D?line=9'>10</a>\u001b[0m \u001b[39m#get list of topic models\u001b[39;00m\n",
      "\u001b[1;31mNameError\u001b[0m: name 'docs' is not defined"
     ]
    }
   ],
   "source": [
    "#BERTopic wtih Vectorized results\n",
    "from bertopic import BERTopic\n",
    "from bertopic.vectorizers import ClassTfidfTransformer\n",
    "\n",
    "ct_model = ClassTfidfTransformer(reduce_frequent_words=True,bm25_weighting=True)\n",
    "topic_model = BERTopic(ctfidf_model=ct_model)\n",
    "topics, probs = topic_model.fit_transform(docs)\n",
    "topic_model.reduce_topics(docs, nr_topics=10)\n",
    "\n",
    "#get list of topic models\n",
    "df_names = pd.DataFrame(topic_model.generate_topic_labels(nr_words=5))\n",
    "\n",
    "#Map Topic models names to coupus\n",
    "df_corpus[\"Topics_Vec\"] = topic_model.topics_\n",
    "df_corpus[\"Topics_Vec_Nr\"] = topic_model.topics_\n",
    "#Get number for each topic and input into dataFrame:\n",
    "df_corpus['Topics_Vec'] = df_corpus['Topics_Vec'].apply(lambda x: x+1)\n",
    "\n",
    "df_names_dict = df_names.to_dict()\n",
    "\n",
    "df_corpus['Topics_Vec'] = df_corpus.Topics_Vec.apply(lambda x: df_names_dict[0][x])"
   ]
  },
  {
   "cell_type": "code",
   "execution_count": null,
   "metadata": {},
   "outputs": [],
   "source": [
    "#BERTopic wtih clustered results\n",
    "from bertopic import BERTopic\n",
    "from hdbscan import HDBSCAN\n",
    "\n",
    "hdbscan_model = HDBSCAN(min_cluster_size=15, metric='euclidean', cluster_selection_method='eom', prediction_data=True)\n",
    "topic_model_cluster = BERTopic(hdbscan_model=hdbscan_model, nr_topics=10)\n",
    "\n",
    "topics, probs = topic_model_cluster.fit_transform(docs)\n",
    "\n",
    "#get list of topic models\n",
    "df_names_cluster = pd.DataFrame(topic_model_cluster.generate_topic_labels(nr_words=5))\n",
    "\n",
    "#Map Topic models names to coupus\n",
    "df_corpus[\"Topics_Cluster\"] = topic_model_cluster.topics_\n",
    "df_corpus[\"Topics_Cluster_nr\"] = topic_model_cluster.topics_\n",
    "#Get number for each topic and input into dataFrame:\n",
    "df_corpus['Topics_Cluster'] = df_corpus['Topics_Cluster'].apply(lambda x: x+1)\n",
    "\n",
    "df_names_cluster_dict = df_names_cluster.to_dict()\n",
    "\n",
    "df_corpus['Topics_Cluster'] = df_corpus.Topics_Cluster.apply(lambda x: df_names_cluster_dict[0][x])"
   ]
  },
  {
   "cell_type": "code",
   "execution_count": null,
   "metadata": {},
   "outputs": [],
   "source": [
    "#Bertopic with dementionality reduction\n",
    "\n",
    "from bertopic import BERTopic\n",
    "from umap import UMAP\n",
    "\n",
    "umap_model = UMAP(n_neighbors=15, n_components=5, min_dist=0.0, metric='cosine')\n",
    "topic_model_dim = BERTopic(umap_model=umap_model,nr_topics=10)\n",
    "\n",
    "topics, probs = topic_model_dim.fit_transform(docs)\n",
    "\n",
    "#get list of topic models\n",
    "df_names_dim = pd.DataFrame(topic_model_dim.generate_topic_labels(nr_words=5))\n",
    "\n",
    "#Map Topic models names to coupus\n",
    "df_corpus[\"Topics_Dim\"] = topic_model_dim.topics_\n",
    "df_corpus[\"Topics_Dim_Nr\"] = topic_model_dim.topics_\n",
    "\n",
    "#Get number for each topic and input into dataFrame:\n",
    "df_corpus['Topics_Dim'] = df_corpus['Topics_Dim'].apply(lambda x: x+1)\n",
    "\n",
    "df_names_dim_dict = df_names_dim.to_dict()\n",
    "\n",
    "df_corpus['Topics_Dim'] = df_corpus.Topics_Dim.apply(lambda x: df_names_dim_dict[0][x])"
   ]
  },
  {
   "cell_type": "code",
   "execution_count": null,
   "metadata": {},
   "outputs": [],
   "source": [
    "#Save dataframe as a CSV\n",
    "df = df_corpus\n",
    "\n",
    "#combine all score together of the number topics if =-3, remove\n",
    "df['total_topics'] = df['Topics_Vec_Nr'] + df['Topics_Cluster_nr']+df['Topics_Dim_Nr']\n",
    "\n",
    "df=df[df['total_topics']>-3]\n",
    "\n",
    "#modify the date format \n",
    "df['date'] = pd.to_datetime(df['date']).dt.to_period('M')\n",
    "\n",
    "df.to_csv(\"C:/Users/Ryanw/Desktop/TFM/Results.csv\")"
   ]
  }
 ],
 "metadata": {
  "kernelspec": {
   "display_name": "Python 3",
   "language": "python",
   "name": "python3"
  },
  "language_info": {
   "codemirror_mode": {
    "name": "ipython",
    "version": 3
   },
   "file_extension": ".py",
   "mimetype": "text/x-python",
   "name": "python",
   "nbconvert_exporter": "python",
   "pygments_lexer": "ipython3",
   "version": "3.10.2"
  },
  "vscode": {
   "interpreter": {
    "hash": "d2d4241f9e183d21f1be8de3ba36e7bbeec6ab79884c09bed76aed57775b68d6"
   }
  }
 },
 "nbformat": 4,
 "nbformat_minor": 4
}
